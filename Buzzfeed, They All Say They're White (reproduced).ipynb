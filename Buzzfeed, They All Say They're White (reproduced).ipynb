{
 "cells": [
  {
   "cell_type": "markdown",
   "metadata": {},
   "source": [
    "\n",
    "This notebook is recraeting two line-graph visualizations in [this piece](https://www.buzzfeed.com/jsvine/agriculture-department-political-appointee-diversity) by [Jeremy Singer-Vine](https://twitter.com/jsvine).\n",
    "\n"
   ]
  },
  {
   "cell_type": "markdown",
   "metadata": {
    "collapsed": true
   },
   "source": [
    "import pandas as pd\n",
    "import matplotlib.pyplot as plt\n",
    "import matplotlib\n",
    "matplotlib.rcParams['pdf.fonttype'] = 42\n",
    "\n",
    "%matplotlib inline"
   ]
  },
  {
   "cell_type": "code",
   "execution_count": 5,
   "metadata": {},
   "outputs": [
    {
     "data": {
      "text/html": [
       "<div>\n",
       "<style>\n",
       "    .dataframe thead tr:only-child th {\n",
       "        text-align: right;\n",
       "    }\n",
       "\n",
       "    .dataframe thead th {\n",
       "        text-align: left;\n",
       "    }\n",
       "\n",
       "    .dataframe tbody tr th {\n",
       "        vertical-align: top;\n",
       "    }\n",
       "</style>\n",
       "<table border=\"1\" class=\"dataframe\">\n",
       "  <thead>\n",
       "    <tr style=\"text-align: right;\">\n",
       "      <th></th>\n",
       "      <th>quarter</th>\n",
       "      <th>toa_group</th>\n",
       "      <th>count_all</th>\n",
       "      <th>count_female</th>\n",
       "      <th>pct_female</th>\n",
       "    </tr>\n",
       "  </thead>\n",
       "  <tbody>\n",
       "    <tr>\n",
       "      <th>0</th>\n",
       "      <td>1998-09</td>\n",
       "      <td>all-permanent</td>\n",
       "      <td>1556531</td>\n",
       "      <td>667289</td>\n",
       "      <td>42.870267</td>\n",
       "    </tr>\n",
       "    <tr>\n",
       "      <th>1</th>\n",
       "      <td>1998-09</td>\n",
       "      <td>midlevel-appointees</td>\n",
       "      <td>1999</td>\n",
       "      <td>1009</td>\n",
       "      <td>50.475238</td>\n",
       "    </tr>\n",
       "    <tr>\n",
       "      <th>2</th>\n",
       "      <td>1999-09</td>\n",
       "      <td>all-permanent</td>\n",
       "      <td>1536156</td>\n",
       "      <td>660663</td>\n",
       "      <td>43.007546</td>\n",
       "    </tr>\n",
       "    <tr>\n",
       "      <th>3</th>\n",
       "      <td>1999-09</td>\n",
       "      <td>midlevel-appointees</td>\n",
       "      <td>2025</td>\n",
       "      <td>1018</td>\n",
       "      <td>50.271605</td>\n",
       "    </tr>\n",
       "    <tr>\n",
       "      <th>4</th>\n",
       "      <td>2000-09</td>\n",
       "      <td>all-permanent</td>\n",
       "      <td>1524883</td>\n",
       "      <td>658788</td>\n",
       "      <td>43.202528</td>\n",
       "    </tr>\n",
       "    <tr>\n",
       "      <th>5</th>\n",
       "      <td>2000-09</td>\n",
       "      <td>midlevel-appointees</td>\n",
       "      <td>1826</td>\n",
       "      <td>933</td>\n",
       "      <td>51.095290</td>\n",
       "    </tr>\n",
       "    <tr>\n",
       "      <th>6</th>\n",
       "      <td>2001-09</td>\n",
       "      <td>all-permanent</td>\n",
       "      <td>1536627</td>\n",
       "      <td>666477</td>\n",
       "      <td>43.372725</td>\n",
       "    </tr>\n",
       "    <tr>\n",
       "      <th>7</th>\n",
       "      <td>2001-09</td>\n",
       "      <td>midlevel-appointees</td>\n",
       "      <td>1211</td>\n",
       "      <td>505</td>\n",
       "      <td>41.701073</td>\n",
       "    </tr>\n",
       "    <tr>\n",
       "      <th>8</th>\n",
       "      <td>2002-09</td>\n",
       "      <td>all-permanent</td>\n",
       "      <td>1579254</td>\n",
       "      <td>682586</td>\n",
       "      <td>43.222053</td>\n",
       "    </tr>\n",
       "    <tr>\n",
       "      <th>9</th>\n",
       "      <td>2002-09</td>\n",
       "      <td>midlevel-appointees</td>\n",
       "      <td>2006</td>\n",
       "      <td>804</td>\n",
       "      <td>40.079761</td>\n",
       "    </tr>\n",
       "  </tbody>\n",
       "</table>\n",
       "</div>"
      ],
      "text/plain": [
       "   quarter            toa_group  count_all  count_female  pct_female\n",
       "0  1998-09        all-permanent    1556531        667289   42.870267\n",
       "1  1998-09  midlevel-appointees       1999          1009   50.475238\n",
       "2  1999-09        all-permanent    1536156        660663   43.007546\n",
       "3  1999-09  midlevel-appointees       2025          1018   50.271605\n",
       "4  2000-09        all-permanent    1524883        658788   43.202528\n",
       "5  2000-09  midlevel-appointees       1826           933   51.095290\n",
       "6  2001-09        all-permanent    1536627        666477   43.372725\n",
       "7  2001-09  midlevel-appointees       1211           505   41.701073\n",
       "8  2002-09        all-permanent    1579254        682586   43.222053\n",
       "9  2002-09  midlevel-appointees       2006           804   40.079761"
      ]
     },
     "execution_count": 5,
     "metadata": {},
     "output_type": "execute_result"
    }
   ],
   "source": [
    "df = pd.read_csv(\"data/gender-by-quarter.csv\")\n",
    "df.head(10)"
   ]
  },
  {
   "cell_type": "code",
   "execution_count": 6,
   "metadata": {},
   "outputs": [
    {
     "name": "stdout",
     "output_type": "stream",
     "text": [
      "quarter         datetime64[ns]\n",
      "toa_group               object\n",
      "count_all                int64\n",
      "count_female             int64\n",
      "pct_female             float64\n",
      "dtype: object\n"
     ]
    }
   ],
   "source": [
    "\n",
    "df['quarter'] = pd.to_datetime(df['quarter'], format=\"%Y-%m\")\n",
    "print(df.dtypes)\n"
   ]
  },
  {
   "cell_type": "code",
   "execution_count": 4,
   "metadata": {},
   "outputs": [
    {
     "ename": "NameError",
     "evalue": "name 'plt' is not defined",
     "output_type": "error",
     "traceback": [
      "\u001b[0;31m---------------------------------------------------------------------------\u001b[0m",
      "\u001b[0;31mNameError\u001b[0m                                 Traceback (most recent call last)",
      "\u001b[0;32m<ipython-input-4-fe72a9cfbdc2>\u001b[0m in \u001b[0;36m<module>\u001b[0;34m()\u001b[0m\n\u001b[1;32m      1\u001b[0m \u001b[0;34m\u001b[0m\u001b[0m\n\u001b[1;32m      2\u001b[0m \u001b[0;34m\u001b[0m\u001b[0m\n\u001b[0;32m----> 3\u001b[0;31m \u001b[0mfig\u001b[0m\u001b[0;34m,\u001b[0m \u001b[0max\u001b[0m \u001b[0;34m=\u001b[0m \u001b[0mplt\u001b[0m\u001b[0;34m.\u001b[0m\u001b[0msubplots\u001b[0m\u001b[0;34m(\u001b[0m\u001b[0;34m)\u001b[0m\u001b[0;34m\u001b[0m\u001b[0m\n\u001b[0m\u001b[1;32m      4\u001b[0m \u001b[0;34m\u001b[0m\u001b[0m\n\u001b[1;32m      5\u001b[0m \u001b[0mdf\u001b[0m\u001b[0;34m[\u001b[0m\u001b[0mdf\u001b[0m\u001b[0;34m[\u001b[0m\u001b[0;34m'toa_group'\u001b[0m\u001b[0;34m]\u001b[0m\u001b[0;34m==\u001b[0m \u001b[0;34m\"midlevel-appointees\"\u001b[0m\u001b[0;34m]\u001b[0m\u001b[0;34m.\u001b[0m\u001b[0mplot\u001b[0m\u001b[0;34m(\u001b[0m\u001b[0mx\u001b[0m\u001b[0;34m=\u001b[0m\u001b[0;34m'quarter'\u001b[0m\u001b[0;34m,\u001b[0m \u001b[0my\u001b[0m\u001b[0;34m=\u001b[0m\u001b[0;34m'pct_female'\u001b[0m\u001b[0;34m,\u001b[0m \u001b[0max\u001b[0m\u001b[0;34m=\u001b[0m\u001b[0max\u001b[0m\u001b[0;34m,\u001b[0m \u001b[0mmarkerfacecolor\u001b[0m\u001b[0;34m=\u001b[0m\u001b[0;34m'white'\u001b[0m\u001b[0;34m,\u001b[0m \u001b[0mmarkeredgecolor\u001b[0m\u001b[0;34m=\u001b[0m\u001b[0;34m'red'\u001b[0m\u001b[0;34m,\u001b[0m \u001b[0mstyle\u001b[0m\u001b[0;34m=\u001b[0m\u001b[0;34m'.-'\u001b[0m\u001b[0;34m,\u001b[0m \u001b[0mmarkersize\u001b[0m\u001b[0;34m=\u001b[0m\u001b[0;36m20\u001b[0m\u001b[0;34m,\u001b[0m \u001b[0mcolor\u001b[0m\u001b[0;34m=\u001b[0m\u001b[0;34m'red'\u001b[0m\u001b[0;34m,\u001b[0m \u001b[0mfigsize\u001b[0m\u001b[0;34m=\u001b[0m\u001b[0;34m(\u001b[0m\u001b[0;36m30\u001b[0m\u001b[0;34m,\u001b[0m\u001b[0;36m15\u001b[0m\u001b[0;34m)\u001b[0m \u001b[0;34m)\u001b[0m\u001b[0;34m\u001b[0m\u001b[0m\n",
      "\u001b[0;31mNameError\u001b[0m: name 'plt' is not defined"
     ]
    }
   ],
   "source": [
    "\n",
    "\n",
    "fig, ax = plt.subplots()\n",
    "\n",
    "df[df['toa_group']== \"midlevel-appointees\"].plot(x='quarter', y='pct_female', ax=ax, markerfacecolor='white', markeredgecolor='red', style='.-', markersize=20, color='red', figsize=(30,15) )\n",
    "df[df['toa_group']== \"all-permanent\"].plot(x='quarter', y='pct_female', ax=ax, markerfacecolor='white', markeredgecolor='black', style='.-', markersize=20, color='black', figsize=(30,15))\n",
    "plt.ylim(0,60)\n",
    "plt.tight_layout()\n",
    "plt.savefig(\"pct_female.pdf\", transparent=True)"
   ]
  },
  {
   "cell_type": "code",
   "execution_count": 8,
   "metadata": {},
   "outputs": [
    {
     "data": {
      "text/plain": [
       "<matplotlib.figure.Figure at 0x1097279e8>"
      ]
     },
     "metadata": {},
     "output_type": "display_data"
    }
   ],
   "source": [
    "plt.tight_layout()\n",
    "plt.savefig(\"pct_female.pdf\", transparent=True)"
   ]
  },
  {
   "cell_type": "code",
   "execution_count": 9,
   "metadata": {},
   "outputs": [
    {
     "data": {
      "text/html": [
       "<div>\n",
       "<style>\n",
       "    .dataframe thead tr:only-child th {\n",
       "        text-align: right;\n",
       "    }\n",
       "\n",
       "    .dataframe thead th {\n",
       "        text-align: left;\n",
       "    }\n",
       "\n",
       "    .dataframe tbody tr th {\n",
       "        vertical-align: top;\n",
       "    }\n",
       "</style>\n",
       "<table border=\"1\" class=\"dataframe\">\n",
       "  <thead>\n",
       "    <tr style=\"text-align: right;\">\n",
       "      <th></th>\n",
       "      <th>quarter</th>\n",
       "      <th>toa_group</th>\n",
       "      <th>count_all</th>\n",
       "      <th>count_minority</th>\n",
       "      <th>pct_minority</th>\n",
       "    </tr>\n",
       "  </thead>\n",
       "  <tbody>\n",
       "    <tr>\n",
       "      <th>0</th>\n",
       "      <td>2006-09</td>\n",
       "      <td>all-permanent</td>\n",
       "      <td>1608157</td>\n",
       "      <td>521323</td>\n",
       "      <td>32.417419</td>\n",
       "    </tr>\n",
       "    <tr>\n",
       "      <th>1</th>\n",
       "      <td>2006-09</td>\n",
       "      <td>midlevel-appointees</td>\n",
       "      <td>2246</td>\n",
       "      <td>268</td>\n",
       "      <td>11.932324</td>\n",
       "    </tr>\n",
       "    <tr>\n",
       "      <th>2</th>\n",
       "      <td>2007-09</td>\n",
       "      <td>all-permanent</td>\n",
       "      <td>1618159</td>\n",
       "      <td>532756</td>\n",
       "      <td>32.923588</td>\n",
       "    </tr>\n",
       "    <tr>\n",
       "      <th>3</th>\n",
       "      <td>2007-09</td>\n",
       "      <td>midlevel-appointees</td>\n",
       "      <td>2315</td>\n",
       "      <td>259</td>\n",
       "      <td>11.187905</td>\n",
       "    </tr>\n",
       "    <tr>\n",
       "      <th>4</th>\n",
       "      <td>2008-09</td>\n",
       "      <td>all-permanent</td>\n",
       "      <td>1673249</td>\n",
       "      <td>560098</td>\n",
       "      <td>33.473679</td>\n",
       "    </tr>\n",
       "  </tbody>\n",
       "</table>\n",
       "</div>"
      ],
      "text/plain": [
       "   quarter            toa_group  count_all  count_minority  pct_minority\n",
       "0  2006-09        all-permanent    1608157          521323     32.417419\n",
       "1  2006-09  midlevel-appointees       2246             268     11.932324\n",
       "2  2007-09        all-permanent    1618159          532756     32.923588\n",
       "3  2007-09  midlevel-appointees       2315             259     11.187905\n",
       "4  2008-09        all-permanent    1673249          560098     33.473679"
      ]
     },
     "execution_count": 9,
     "metadata": {},
     "output_type": "execute_result"
    }
   ],
   "source": [
    "df = pd.read_csv(\"data/diversity-by-quarter.csv\")\n",
    "df.head()"
   ]
  },
  {
   "cell_type": "code",
   "execution_count": 10,
   "metadata": {},
   "outputs": [
    {
     "name": "stdout",
     "output_type": "stream",
     "text": [
      "quarter           datetime64[ns]\n",
      "toa_group                 object\n",
      "count_all                  int64\n",
      "count_minority             int64\n",
      "pct_minority             float64\n",
      "dtype: object\n"
     ]
    }
   ],
   "source": [
    "df['quarter'] = pd.to_datetime(df['quarter'], format=\"%Y-%m\")\n",
    "print(df.dtypes)\n"
   ]
  },
  {
   "cell_type": "code",
   "execution_count": 11,
   "metadata": {},
   "outputs": [
    {
     "data": {
      "image/png": "[encoded data removed]",
      "text/plain": [
       "<matplotlib.figure.Figure at 0x10977bc50>"
      ]
     },
     "metadata": {},
     "output_type": "display_data"
    }
   ],
   "source": [
    "fig, ax = plt.subplots()\n",
    "\n",
    "df[df['toa_group']== \"midlevel-appointees\"].plot(x='quarter', y='pct_minority', ax=ax, markerfacecolor='white', markeredgecolor='red', style='.-', markersize=20, color='red', figsize=(20,15))\n",
    "df[df['toa_group']== \"all-permanent\"].plot(x='quarter', y='pct_minority', ax=ax, markerfacecolor='white', markeredgecolor='black', style='.-', markersize=20, color='black', figsize=(20,15))\n",
    "plt.ylim(0,50)\n",
    "plt.tight_layout()\n",
    "plt.savefig(\"pct_minority.pdf\", transparent=True)"
   ]
  }
 ],
 "metadata": {
  "kernelspec": {
   "display_name": "Python 3",
   "language": "python",
   "name": "python3"
  },
  "language_info": {
   "codemirror_mode": {
    "name": "ipython",
    "version": 3
   },
   "file_extension": ".py",
   "mimetype": "text/x-python",
   "name": "python",
   "nbconvert_exporter": "python",
   "pygments_lexer": "ipython3",
   "version": "3.6.3"
  }
 },
 "nbformat": 4,
 "nbformat_minor": 2
}
